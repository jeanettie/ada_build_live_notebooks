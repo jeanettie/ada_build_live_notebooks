{
  "nbformat": 4,
  "nbformat_minor": 0,
  "metadata": {
    "colab": {
      "provenance": [],
      "collapsed_sections": [
        "0iNdjGZuzDW-",
        "QfuaM6mKzpH8",
        "5cwfbELYzS9j",
        "op2DTIekz3nU"
      ],
      "include_colab_link": true
    },
    "kernelspec": {
      "name": "python3",
      "display_name": "Python 3"
    },
    "language_info": {
      "name": "python"
    }
  },
  "cells": [
    {
      "cell_type": "markdown",
      "metadata": {
        "id": "view-in-github",
        "colab_type": "text"
      },
      "source": [
        "<a href=\"https://colab.research.google.com/github/jeanettie/ada_build_live_notebooks/blob/main/02_programming_grammar_activity.ipynb\" target=\"_parent\"><img src=\"https://colab.research.google.com/assets/colab-badge.svg\" alt=\"Open In Colab\"/></a>"
      ]
    },
    {
      "cell_type": "markdown",
      "metadata": {
        "id": "uWu-sC6N_1ie"
      },
      "source": [
        "**Programming Grammar**\n",
        "\n",
        "_Ada Build - Programming Grammar - Lesson 2 - Activity_"
      ]
    },
    {
      "cell_type": "markdown",
      "metadata": {
        "id": "sd6upOU_RQ01"
      },
      "source": [
        "# **Google Colab**\n",
        "\n",
        "For the _Learning to Code_ portion of the Ada Build Curriculum we will review notes and complete exercises in a series of lessons in **Google Colab**. Colab is Google's hosting of Jupyter Notebook, an open-source web application that allows us to create and share documents that contain live code, equations, visualizations, and narrative text. Uses for Jupyter Notebook include: data cleaning and transformation, numerical simulation, statistical modeling, data visualization, machine learning, and much more. Here we are using Colab and Jupyter Notebook to create an interactive _Intro to Python_ course.\n",
        "\n",
        "\n",
        "_You can click on the link to view [a video introduction to Colab](https://adaacademy.hosted.panopto.com/Panopto/Pages/Viewer.aspx?id=6f137996-88f0-490a-9e94-acb10170c7dd)._"
      ]
    },
    {
      "cell_type": "markdown",
      "metadata": {
        "id": "GhOOrUgDfAaJ"
      },
      "source": [
        "## Saving our Colab notebook\n",
        "\n",
        "In order to save changes we make in a **Colab** notebook and enable the ability to add comments, we will need a [Google account](https://support.google.com/accounts/answer/27441?hl=en).\n",
        "\n",
        "We should save a copy of every notebook we open to our own **Google Drive**. If we do not, any code changes will be lost when we close the notebook.\n",
        "\n",
        "To make a copy we can either:\n",
        "1. Open the **File** menu and select **Save a copy in Drive**.\n",
        "\n",
        "2. Click the `Save to Drive` button next to `+Code` and `+Text` at the top of this notebook.\n",
        "\n",
        "The copied notebook will open and we will be able to preserve our code changes.\n",
        "\n",
        "*Colab* notebooks default to saving in the folder *Colab Notebooks*, but we can organize them however we'd like within Google Drive."
      ]
    },
    {
      "cell_type": "markdown",
      "metadata": {
        "id": "LFs6EUaIRaca"
      },
      "source": [
        "## Text Cells\n",
        "\n",
        "This is a text cell. It's written in a markup language called _markdown_. Double click and notice the options for formatting. For the most part, we won't need to edit text cells. Text cells are used to deliver content for us to review."
      ]
    },
    {
      "cell_type": "markdown",
      "metadata": {
        "id": "-NxMOUzFRVt_"
      },
      "source": [
        "## Code Cells\n",
        "\n",
        "The cell below is a code cell. We'll be completing programming exercises in the code cells."
      ]
    },
    {
      "cell_type": "code",
      "metadata": {
        "id": "bDoF5YfCvop0"
      },
      "source": [
        "# press the play button on the left side of this cell to see a code cell in action\n",
        "5+5"
      ],
      "execution_count": null,
      "outputs": []
    },
    {
      "cell_type": "markdown",
      "source": [
        "# Livecode\n",
        "\n",
        "At your bakery you charge \\$25 for a dozen cupcakes and \\$2.75 for a single cupcake.\n",
        "\n",
        "Use the mathematical operators introduced in this lesson to calculate the total cost for an order\n",
        "\n",
        "that contains 27 cupcakes.\n",
        "\n",
        "Print the total cost."
      ],
      "metadata": {
        "id": "IqEHjhp9Hp1Q"
      }
    },
    {
      "cell_type": "code",
      "source": [
        "# $25 for a dozen\n",
        "# $2.75 for a single\n",
        "order = 27\n",
        "dozens_quantity = order // 12 # a value of 2\n",
        "remainder_quantity = order % 12 # value of 3\n",
        "total = dozens_quantity * 25 + remainder_quantity * 2.75\n",
        "print(f\"Total order is ${total}\")"
      ],
      "metadata": {
        "id": "GKVY9uLcHsKG",
        "colab": {
          "base_uri": "https://localhost:8080/"
        },
        "outputId": "4bc1bf06-28ee-46e4-97e4-78ebc9eb3712"
      },
      "execution_count": null,
      "outputs": [
        {
          "output_type": "stream",
          "name": "stdout",
          "text": [
            "Total order is $58.25\n"
          ]
        }
      ]
    },
    {
      "cell_type": "markdown",
      "source": [
        "# **Activity**"
      ],
      "metadata": {
        "id": "pyQR436Pv4Bu"
      }
    },
    {
      "cell_type": "markdown",
      "source": [
        "## Example\n",
        "\n",
        "Run the following lines of code and debug any errors present."
      ],
      "metadata": {
        "id": "FQ3jtYCQwX5V"
      }
    },
    {
      "cell_type": "code",
      "source": [
        "a_long_string = \"This is a very long string\"\n",
        "last_letter_sliced = a_long_string[25]\n",
        "print(f\"The last letter sliced from the sentence {a_long_string} is {last_letter_sliced}\")"
      ],
      "metadata": {
        "id": "Pw6oMlipwxmW"
      },
      "execution_count": null,
      "outputs": []
    },
    {
      "cell_type": "markdown",
      "source": [
        "## Problem 1\n",
        "\n",
        "Run the following lines of code and debug any errors present."
      ],
      "metadata": {
        "id": "SluJd45OwbNQ"
      }
    },
    {
      "cell_type": "code",
      "source": [
        "gift_card_balance = 45\n",
        "price_of_entree = 20\n",
        "price_of_drink = \"7.50\"\n",
        "gift_card_balance - price_of_entree\n",
        "gift_card_balance - price_of_drink\n",
        "print(f\"The remaining balance for the gift card is: ${gift_card_balance}\")"
      ],
      "metadata": {
        "id": "nBeBGEIkPcjM"
      },
      "execution_count": null,
      "outputs": []
    },
    {
      "cell_type": "markdown",
      "source": [
        "## Problem 2\n",
        "\n",
        "Run the following lines of code and debug any errors present."
      ],
      "metadata": {
        "id": "L-Rges9dweLt"
      }
    },
    {
      "cell_type": "code",
      "source": [
        "# store the name of a pet in a variable\n",
        "pet_name = \"Felix\"\n",
        "\n",
        "# Fix the line of code below so that the program prints: \"FELIX is the best!\"\n",
        "print(\"petName.capitalize() is the best!\")"
      ],
      "metadata": {
        "id": "N3PGMuIBx0uQ"
      },
      "execution_count": null,
      "outputs": []
    },
    {
      "cell_type": "markdown",
      "source": [
        "\n",
        "\n",
        "---\n",
        "\n"
      ],
      "metadata": {
        "id": "Mda9I9eL0NHI"
      }
    },
    {
      "cell_type": "markdown",
      "source": [
        "# Solutions\n",
        "\n",
        "There is no right answer. This is a list of what you may commonly see as a solution."
      ],
      "metadata": {
        "id": "0iNdjGZuzDW-"
      }
    },
    {
      "cell_type": "markdown",
      "source": [
        "## Example"
      ],
      "metadata": {
        "id": "QfuaM6mKzpH8"
      }
    },
    {
      "cell_type": "code",
      "source": [
        "a_long_string = \"This is a very long string\"\n",
        "last_letter_sliced = a_long_string[-1]\n",
        "print(f\"The last letter sliced from the sentence {a_long_string} is {last_letter_sliced.upper()}\")"
      ],
      "metadata": {
        "id": "qdNFJ6PGzrv2"
      },
      "execution_count": null,
      "outputs": []
    },
    {
      "cell_type": "markdown",
      "source": [
        "## Problem 1"
      ],
      "metadata": {
        "id": "5cwfbELYzS9j"
      }
    },
    {
      "cell_type": "code",
      "source": [
        "gift_card_balance = 45\n",
        "price_of_entree = 20\n",
        "price_of_drink = 7.50\n",
        "gift_card_balance -= price_of_entree\n",
        "gift_card_balance -= price_of_drink\n",
        "print(f\"The remaining balance for the gift card is: ${gift_card_balance}\")"
      ],
      "metadata": {
        "id": "5lgvbMarzbg9"
      },
      "execution_count": null,
      "outputs": []
    },
    {
      "cell_type": "markdown",
      "source": [
        "## Problem 2"
      ],
      "metadata": {
        "id": "op2DTIekz3nU"
      }
    },
    {
      "cell_type": "code",
      "source": [
        "# store the name of a pet in a variable\n",
        "pet_name = \"Felix\"\n",
        "\n",
        "# Fix the line of code below so that the program prints: \"FELIX is the best!\"\n",
        "print(f\"{pet_name.upper()} is the best!\")"
      ],
      "metadata": {
        "id": "RvR-xiEmz6mE"
      },
      "execution_count": null,
      "outputs": []
    }
  ]
}